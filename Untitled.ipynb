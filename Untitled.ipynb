{
 "cells": [
  {
   "cell_type": "code",
   "execution_count": 1,
   "id": "d777c9be-82d4-4235-bd1e-40f21b3c6ed8",
   "metadata": {},
   "outputs": [],
   "source": [
    "import numpy as np\n",
    "import pandas as pd\n",
    "import warnings\n",
    "warnings.filterwarnings('ignore')\n",
    "import matplotlib.pyplot as plt"
   ]
  },
  {
   "cell_type": "code",
   "execution_count": 2,
   "id": "46a5ea5a-e5ba-4020-85dd-bb58a3bdae20",
   "metadata": {},
   "outputs": [
    {
     "data": {
      "text/html": [
       "<div>\n",
       "<style scoped>\n",
       "    .dataframe tbody tr th:only-of-type {\n",
       "        vertical-align: middle;\n",
       "    }\n",
       "\n",
       "    .dataframe tbody tr th {\n",
       "        vertical-align: top;\n",
       "    }\n",
       "\n",
       "    .dataframe thead th {\n",
       "        text-align: right;\n",
       "    }\n",
       "</style>\n",
       "<table border=\"1\" class=\"dataframe\">\n",
       "  <thead>\n",
       "    <tr style=\"text-align: right;\">\n",
       "      <th></th>\n",
       "      <th>R&amp;D Spend</th>\n",
       "      <th>Administration</th>\n",
       "      <th>Marketing Spend</th>\n",
       "      <th>State</th>\n",
       "      <th>Profit</th>\n",
       "    </tr>\n",
       "  </thead>\n",
       "  <tbody>\n",
       "    <tr>\n",
       "      <th>0</th>\n",
       "      <td>165349.20</td>\n",
       "      <td>136897.80</td>\n",
       "      <td>471784.10</td>\n",
       "      <td>New York</td>\n",
       "      <td>192261.83</td>\n",
       "    </tr>\n",
       "    <tr>\n",
       "      <th>1</th>\n",
       "      <td>162597.70</td>\n",
       "      <td>151377.59</td>\n",
       "      <td>443898.53</td>\n",
       "      <td>California</td>\n",
       "      <td>191792.06</td>\n",
       "    </tr>\n",
       "    <tr>\n",
       "      <th>2</th>\n",
       "      <td>153441.51</td>\n",
       "      <td>101145.55</td>\n",
       "      <td>407934.54</td>\n",
       "      <td>Florida</td>\n",
       "      <td>191050.39</td>\n",
       "    </tr>\n",
       "    <tr>\n",
       "      <th>3</th>\n",
       "      <td>144372.41</td>\n",
       "      <td>118671.85</td>\n",
       "      <td>383199.62</td>\n",
       "      <td>New York</td>\n",
       "      <td>182901.99</td>\n",
       "    </tr>\n",
       "    <tr>\n",
       "      <th>4</th>\n",
       "      <td>142107.34</td>\n",
       "      <td>91391.77</td>\n",
       "      <td>366168.42</td>\n",
       "      <td>Florida</td>\n",
       "      <td>166187.94</td>\n",
       "    </tr>\n",
       "  </tbody>\n",
       "</table>\n",
       "</div>"
      ],
      "text/plain": [
       "   R&D Spend  Administration  Marketing Spend       State     Profit\n",
       "0  165349.20       136897.80        471784.10    New York  192261.83\n",
       "1  162597.70       151377.59        443898.53  California  191792.06\n",
       "2  153441.51       101145.55        407934.54     Florida  191050.39\n",
       "3  144372.41       118671.85        383199.62    New York  182901.99\n",
       "4  142107.34        91391.77        366168.42     Florida  166187.94"
      ]
     },
     "execution_count": 2,
     "metadata": {},
     "output_type": "execute_result"
    }
   ],
   "source": [
    "df = pd.read_csv('50_Startups.csv')\n",
    "df.head()"
   ]
  },
  {
   "cell_type": "code",
   "execution_count": 3,
   "id": "75fc7d6d-81de-4ed8-90d9-e675f4aa089d",
   "metadata": {},
   "outputs": [
    {
     "name": "stdout",
     "output_type": "stream",
     "text": [
      "<class 'pandas.core.frame.DataFrame'>\n",
      "RangeIndex: 50 entries, 0 to 49\n",
      "Data columns (total 5 columns):\n",
      " #   Column           Non-Null Count  Dtype  \n",
      "---  ------           --------------  -----  \n",
      " 0   R&D Spend        50 non-null     float64\n",
      " 1   Administration   50 non-null     float64\n",
      " 2   Marketing Spend  50 non-null     float64\n",
      " 3   State            50 non-null     object \n",
      " 4   Profit           50 non-null     float64\n",
      "dtypes: float64(4), object(1)\n",
      "memory usage: 2.1+ KB\n"
     ]
    }
   ],
   "source": [
    "df.info()"
   ]
  },
  {
   "cell_type": "code",
   "execution_count": 4,
   "id": "586a6b24-2997-4c49-b3c2-ae7eec1f77d8",
   "metadata": {},
   "outputs": [
    {
     "data": {
      "text/html": [
       "<div>\n",
       "<style scoped>\n",
       "    .dataframe tbody tr th:only-of-type {\n",
       "        vertical-align: middle;\n",
       "    }\n",
       "\n",
       "    .dataframe tbody tr th {\n",
       "        vertical-align: top;\n",
       "    }\n",
       "\n",
       "    .dataframe thead th {\n",
       "        text-align: right;\n",
       "    }\n",
       "</style>\n",
       "<table border=\"1\" class=\"dataframe\">\n",
       "  <thead>\n",
       "    <tr style=\"text-align: right;\">\n",
       "      <th></th>\n",
       "      <th>R&amp;D Spend</th>\n",
       "      <th>Administration</th>\n",
       "      <th>Marketing Spend</th>\n",
       "      <th>Profit</th>\n",
       "    </tr>\n",
       "  </thead>\n",
       "  <tbody>\n",
       "    <tr>\n",
       "      <th>count</th>\n",
       "      <td>50.000000</td>\n",
       "      <td>50.000000</td>\n",
       "      <td>50.000000</td>\n",
       "      <td>50.000000</td>\n",
       "    </tr>\n",
       "    <tr>\n",
       "      <th>mean</th>\n",
       "      <td>73721.615600</td>\n",
       "      <td>121344.639600</td>\n",
       "      <td>211025.097800</td>\n",
       "      <td>112012.639200</td>\n",
       "    </tr>\n",
       "    <tr>\n",
       "      <th>std</th>\n",
       "      <td>45902.256482</td>\n",
       "      <td>28017.802755</td>\n",
       "      <td>122290.310726</td>\n",
       "      <td>40306.180338</td>\n",
       "    </tr>\n",
       "    <tr>\n",
       "      <th>min</th>\n",
       "      <td>0.000000</td>\n",
       "      <td>51283.140000</td>\n",
       "      <td>0.000000</td>\n",
       "      <td>14681.400000</td>\n",
       "    </tr>\n",
       "    <tr>\n",
       "      <th>25%</th>\n",
       "      <td>39936.370000</td>\n",
       "      <td>103730.875000</td>\n",
       "      <td>129300.132500</td>\n",
       "      <td>90138.902500</td>\n",
       "    </tr>\n",
       "    <tr>\n",
       "      <th>50%</th>\n",
       "      <td>73051.080000</td>\n",
       "      <td>122699.795000</td>\n",
       "      <td>212716.240000</td>\n",
       "      <td>107978.190000</td>\n",
       "    </tr>\n",
       "    <tr>\n",
       "      <th>75%</th>\n",
       "      <td>101602.800000</td>\n",
       "      <td>144842.180000</td>\n",
       "      <td>299469.085000</td>\n",
       "      <td>139765.977500</td>\n",
       "    </tr>\n",
       "    <tr>\n",
       "      <th>max</th>\n",
       "      <td>165349.200000</td>\n",
       "      <td>182645.560000</td>\n",
       "      <td>471784.100000</td>\n",
       "      <td>192261.830000</td>\n",
       "    </tr>\n",
       "  </tbody>\n",
       "</table>\n",
       "</div>"
      ],
      "text/plain": [
       "           R&D Spend  Administration  Marketing Spend         Profit\n",
       "count      50.000000       50.000000        50.000000      50.000000\n",
       "mean    73721.615600   121344.639600    211025.097800  112012.639200\n",
       "std     45902.256482    28017.802755    122290.310726   40306.180338\n",
       "min         0.000000    51283.140000         0.000000   14681.400000\n",
       "25%     39936.370000   103730.875000    129300.132500   90138.902500\n",
       "50%     73051.080000   122699.795000    212716.240000  107978.190000\n",
       "75%    101602.800000   144842.180000    299469.085000  139765.977500\n",
       "max    165349.200000   182645.560000    471784.100000  192261.830000"
      ]
     },
     "execution_count": 4,
     "metadata": {},
     "output_type": "execute_result"
    }
   ],
   "source": [
    "df.describe()"
   ]
  },
  {
   "cell_type": "code",
   "execution_count": 5,
   "id": "eea4d27b-7ffc-48e2-8ec1-3e0b54cb983d",
   "metadata": {},
   "outputs": [
    {
     "data": {
      "text/plain": [
       "Index(['R&D Spend', 'Administration', 'Marketing Spend', 'State', 'Profit'], dtype='object')"
      ]
     },
     "execution_count": 5,
     "metadata": {},
     "output_type": "execute_result"
    }
   ],
   "source": [
    "cols = df.columns\n",
    "cols"
   ]
  },
  {
   "cell_type": "code",
   "execution_count": 6,
   "id": "5117c3ae-dca1-4f24-ad53-3ebc8663512a",
   "metadata": {},
   "outputs": [
    {
     "name": "stdout",
     "output_type": "stream",
     "text": [
      "R&D Spend --> [165349.2  162597.7  153441.51 144372.41 142107.34 131876.9  134615.46\n",
      " 130298.13 120542.52 123334.88 101913.08 100671.96  93863.75  91992.39\n",
      " 119943.24 114523.61  78013.11  94657.16  91749.16  86419.7   76253.86\n",
      "  78389.47  73994.56  67532.53  77044.01  64664.71  75328.87  72107.6\n",
      "  66051.52  65605.48  61994.48  61136.38  63408.86  55493.95  46426.07\n",
      "  46014.02  28663.76  44069.95  20229.59  38558.51  28754.33  27892.92\n",
      "  23640.93  15505.73  22177.74   1000.23   1315.46      0.      542.05]\n",
      "Administration --> [136897.8  151377.59 101145.55 118671.85  91391.77  99814.71 147198.87\n",
      " 145530.06 148718.95 108679.17 110594.11  91790.61 127320.38 135495.07\n",
      " 156547.42 122616.84 121597.55 145077.58 114175.79 153514.11 113867.3\n",
      " 153773.43 122782.75 105751.03  99281.34 139553.16 144135.98 127864.55\n",
      " 182645.56 153032.06 115641.28 152701.92 129219.61 103057.49 157693.92\n",
      "  85047.44 127056.21  51283.14  65947.93  82982.09 118546.05  84710.77\n",
      "  96189.63 127382.3  154806.14 124153.04 115816.21 135426.92  51743.15\n",
      " 116983.8 ]\n",
      "Marketing Spend --> [471784.1  443898.53 407934.54 383199.62 366168.42 362861.36 127716.82\n",
      " 323876.68 311613.29 304981.62 229160.95 249744.55 249839.44 252664.93\n",
      " 256512.92 261776.23 264346.06 282574.31 294919.57      0.   298664.47\n",
      " 299737.29 303319.26 304768.73 140574.81 137962.62 134050.07 353183.81\n",
      " 118148.2  107138.38  91131.24  88218.23  46085.25 214634.81 210797.67\n",
      " 205517.64 201126.82 197029.42 185265.1  174999.3  172795.67 164470.71\n",
      " 148001.11  35534.17  28334.72   1903.93 297114.46  45173.06]\n",
      "State --> ['New York' 'California' 'Florida']\n",
      "Profit --> [192261.83 191792.06 191050.39 182901.99 166187.94 156991.12 156122.51\n",
      " 155752.6  152211.77 149759.96 146121.95 144259.4  141585.52 134307.35\n",
      " 132602.65 129917.04 126992.93 125370.37 124266.9  122776.86 118474.03\n",
      " 111313.02 110352.25 108733.99 108552.04 107404.34 105733.54 105008.31\n",
      " 103282.38 101004.64  99937.59  97483.56  97427.84  96778.92  96712.8\n",
      "  96479.51  90708.19  89949.14  81229.06  81005.76  78239.91  77798.83\n",
      "  71498.49  69758.98  65200.33  64926.08  49490.75  42559.73  35673.41\n",
      "  14681.4 ]\n"
     ]
    }
   ],
   "source": [
    "for i in cols:\n",
    "    print(i,'-->',df[i].unique())"
   ]
  },
  {
   "cell_type": "code",
   "execution_count": 7,
   "id": "e86be715-7f4e-4672-bca3-3eaf4b0fa644",
   "metadata": {},
   "outputs": [
    {
     "data": {
      "text/html": [
       "<div>\n",
       "<style scoped>\n",
       "    .dataframe tbody tr th:only-of-type {\n",
       "        vertical-align: middle;\n",
       "    }\n",
       "\n",
       "    .dataframe tbody tr th {\n",
       "        vertical-align: top;\n",
       "    }\n",
       "\n",
       "    .dataframe thead th {\n",
       "        text-align: right;\n",
       "    }\n",
       "</style>\n",
       "<table border=\"1\" class=\"dataframe\">\n",
       "  <thead>\n",
       "    <tr style=\"text-align: right;\">\n",
       "      <th></th>\n",
       "      <th>State</th>\n",
       "      <th>California</th>\n",
       "      <th>Florida</th>\n",
       "      <th>New York</th>\n",
       "    </tr>\n",
       "  </thead>\n",
       "  <tbody>\n",
       "    <tr>\n",
       "      <th rowspan=\"8\" valign=\"top\">R&amp;D Spend</th>\n",
       "      <th>count</th>\n",
       "      <td>17.000000</td>\n",
       "      <td>16.000000</td>\n",
       "      <td>17.000000</td>\n",
       "    </tr>\n",
       "    <tr>\n",
       "      <th>mean</th>\n",
       "      <td>64657.674118</td>\n",
       "      <td>80724.016250</td>\n",
       "      <td>76195.062353</td>\n",
       "    </tr>\n",
       "    <tr>\n",
       "      <th>std</th>\n",
       "      <td>46678.808917</td>\n",
       "      <td>42467.890338</td>\n",
       "      <td>49398.416652</td>\n",
       "    </tr>\n",
       "    <tr>\n",
       "      <th>min</th>\n",
       "      <td>0.000000</td>\n",
       "      <td>1315.460000</td>\n",
       "      <td>542.050000</td>\n",
       "    </tr>\n",
       "    <tr>\n",
       "      <th>25%</th>\n",
       "      <td>28754.330000</td>\n",
       "      <td>60369.347500</td>\n",
       "      <td>46014.020000</td>\n",
       "    </tr>\n",
       "    <tr>\n",
       "      <th>50%</th>\n",
       "      <td>63408.860000</td>\n",
       "      <td>74661.715000</td>\n",
       "      <td>77044.010000</td>\n",
       "    </tr>\n",
       "    <tr>\n",
       "      <th>75%</th>\n",
       "      <td>91992.390000</td>\n",
       "      <td>106420.620000</td>\n",
       "      <td>114523.610000</td>\n",
       "    </tr>\n",
       "    <tr>\n",
       "      <th>max</th>\n",
       "      <td>162597.700000</td>\n",
       "      <td>153441.510000</td>\n",
       "      <td>165349.200000</td>\n",
       "    </tr>\n",
       "    <tr>\n",
       "      <th rowspan=\"8\" valign=\"top\">Administration</th>\n",
       "      <th>count</th>\n",
       "      <td>17.000000</td>\n",
       "      <td>16.000000</td>\n",
       "      <td>17.000000</td>\n",
       "    </tr>\n",
       "    <tr>\n",
       "      <th>mean</th>\n",
       "      <td>120746.507059</td>\n",
       "      <td>121768.897500</td>\n",
       "      <td>121543.470588</td>\n",
       "    </tr>\n",
       "    <tr>\n",
       "      <th>std</th>\n",
       "      <td>28424.397614</td>\n",
       "      <td>25329.554225</td>\n",
       "      <td>31528.058440</td>\n",
       "    </tr>\n",
       "    <tr>\n",
       "      <th>min</th>\n",
       "      <td>51283.140000</td>\n",
       "      <td>84710.770000</td>\n",
       "      <td>51743.150000</td>\n",
       "    </tr>\n",
       "    <tr>\n",
       "      <th>25%</th>\n",
       "      <td>108679.170000</td>\n",
       "      <td>105077.645000</td>\n",
       "      <td>99814.710000</td>\n",
       "    </tr>\n",
       "    <tr>\n",
       "      <th>50%</th>\n",
       "      <td>121597.550000</td>\n",
       "      <td>115728.745000</td>\n",
       "      <td>127382.300000</td>\n",
       "    </tr>\n",
       "    <tr>\n",
       "      <th>75%</th>\n",
       "      <td>139553.160000</td>\n",
       "      <td>131524.280000</td>\n",
       "      <td>148718.950000</td>\n",
       "    </tr>\n",
       "    <tr>\n",
       "      <th>max</th>\n",
       "      <td>157693.920000</td>\n",
       "      <td>182645.560000</td>\n",
       "      <td>153773.430000</td>\n",
       "    </tr>\n",
       "    <tr>\n",
       "      <th rowspan=\"8\" valign=\"top\">Marketing Spend</th>\n",
       "      <th>count</th>\n",
       "      <td>17.000000</td>\n",
       "      <td>16.000000</td>\n",
       "      <td>17.000000</td>\n",
       "    </tr>\n",
       "    <tr>\n",
       "      <th>mean</th>\n",
       "      <td>182540.929412</td>\n",
       "      <td>247323.551250</td>\n",
       "      <td>205346.015882</td>\n",
       "    </tr>\n",
       "    <tr>\n",
       "      <th>std</th>\n",
       "      <td>115878.956226</td>\n",
       "      <td>89948.684628</td>\n",
       "      <td>150241.521460</td>\n",
       "    </tr>\n",
       "    <tr>\n",
       "      <th>min</th>\n",
       "      <td>0.000000</td>\n",
       "      <td>91131.240000</td>\n",
       "      <td>0.000000</td>\n",
       "    </tr>\n",
       "    <tr>\n",
       "      <th>25%</th>\n",
       "      <td>127716.820000</td>\n",
       "      <td>191962.792500</td>\n",
       "      <td>88218.230000</td>\n",
       "    </tr>\n",
       "    <tr>\n",
       "      <th>50%</th>\n",
       "      <td>174999.300000</td>\n",
       "      <td>253176.180000</td>\n",
       "      <td>205517.640000</td>\n",
       "    </tr>\n",
       "    <tr>\n",
       "      <th>75%</th>\n",
       "      <td>252664.930000</td>\n",
       "      <td>303681.627500</td>\n",
       "      <td>311613.290000</td>\n",
       "    </tr>\n",
       "    <tr>\n",
       "      <th>max</th>\n",
       "      <td>443898.530000</td>\n",
       "      <td>407934.540000</td>\n",
       "      <td>471784.100000</td>\n",
       "    </tr>\n",
       "    <tr>\n",
       "      <th rowspan=\"8\" valign=\"top\">Profit</th>\n",
       "      <th>count</th>\n",
       "      <td>17.000000</td>\n",
       "      <td>16.000000</td>\n",
       "      <td>17.000000</td>\n",
       "    </tr>\n",
       "    <tr>\n",
       "      <th>mean</th>\n",
       "      <td>103905.175294</td>\n",
       "      <td>118774.024375</td>\n",
       "      <td>113756.446471</td>\n",
       "    </tr>\n",
       "    <tr>\n",
       "      <th>std</th>\n",
       "      <td>44446.359357</td>\n",
       "      <td>35605.470428</td>\n",
       "      <td>41140.258117</td>\n",
       "    </tr>\n",
       "    <tr>\n",
       "      <th>min</th>\n",
       "      <td>14681.400000</td>\n",
       "      <td>49490.750000</td>\n",
       "      <td>35673.410000</td>\n",
       "    </tr>\n",
       "    <tr>\n",
       "      <th>25%</th>\n",
       "      <td>78239.910000</td>\n",
       "      <td>99147.922500</td>\n",
       "      <td>96479.510000</td>\n",
       "    </tr>\n",
       "    <tr>\n",
       "      <th>50%</th>\n",
       "      <td>97427.840000</td>\n",
       "      <td>109543.120000</td>\n",
       "      <td>108552.040000</td>\n",
       "    </tr>\n",
       "    <tr>\n",
       "      <th>75%</th>\n",
       "      <td>134307.350000</td>\n",
       "      <td>142719.627500</td>\n",
       "      <td>129917.040000</td>\n",
       "    </tr>\n",
       "    <tr>\n",
       "      <th>max</th>\n",
       "      <td>191792.060000</td>\n",
       "      <td>191050.390000</td>\n",
       "      <td>192261.830000</td>\n",
       "    </tr>\n",
       "  </tbody>\n",
       "</table>\n",
       "</div>"
      ],
      "text/plain": [
       "State                     California        Florida       New York\n",
       "R&D Spend       count      17.000000      16.000000      17.000000\n",
       "                mean    64657.674118   80724.016250   76195.062353\n",
       "                std     46678.808917   42467.890338   49398.416652\n",
       "                min         0.000000    1315.460000     542.050000\n",
       "                25%     28754.330000   60369.347500   46014.020000\n",
       "                50%     63408.860000   74661.715000   77044.010000\n",
       "                75%     91992.390000  106420.620000  114523.610000\n",
       "                max    162597.700000  153441.510000  165349.200000\n",
       "Administration  count      17.000000      16.000000      17.000000\n",
       "                mean   120746.507059  121768.897500  121543.470588\n",
       "                std     28424.397614   25329.554225   31528.058440\n",
       "                min     51283.140000   84710.770000   51743.150000\n",
       "                25%    108679.170000  105077.645000   99814.710000\n",
       "                50%    121597.550000  115728.745000  127382.300000\n",
       "                75%    139553.160000  131524.280000  148718.950000\n",
       "                max    157693.920000  182645.560000  153773.430000\n",
       "Marketing Spend count      17.000000      16.000000      17.000000\n",
       "                mean   182540.929412  247323.551250  205346.015882\n",
       "                std    115878.956226   89948.684628  150241.521460\n",
       "                min         0.000000   91131.240000       0.000000\n",
       "                25%    127716.820000  191962.792500   88218.230000\n",
       "                50%    174999.300000  253176.180000  205517.640000\n",
       "                75%    252664.930000  303681.627500  311613.290000\n",
       "                max    443898.530000  407934.540000  471784.100000\n",
       "Profit          count      17.000000      16.000000      17.000000\n",
       "                mean   103905.175294  118774.024375  113756.446471\n",
       "                std     44446.359357   35605.470428   41140.258117\n",
       "                min     14681.400000   49490.750000   35673.410000\n",
       "                25%     78239.910000   99147.922500   96479.510000\n",
       "                50%     97427.840000  109543.120000  108552.040000\n",
       "                75%    134307.350000  142719.627500  129917.040000\n",
       "                max    191792.060000  191050.390000  192261.830000"
      ]
     },
     "execution_count": 7,
     "metadata": {},
     "output_type": "execute_result"
    }
   ],
   "source": [
    "df.groupby('State').describe().T"
   ]
  },
  {
   "cell_type": "code",
   "execution_count": 8,
   "id": "52236216-cb89-4688-a73d-6972690cac60",
   "metadata": {},
   "outputs": [
    {
     "data": {
      "text/plain": [
       "array([192261.83, 191792.06, 191050.39, 182901.99, 166187.94, 156991.12,\n",
       "       156122.51, 155752.6 , 152211.77, 149759.96, 146121.95, 144259.4 ,\n",
       "       141585.52, 134307.35, 132602.65, 129917.04, 126992.93, 125370.37,\n",
       "       124266.9 , 122776.86, 118474.03, 111313.02, 110352.25, 108733.99,\n",
       "       108552.04, 107404.34, 105733.54, 105008.31, 103282.38, 101004.64,\n",
       "        99937.59,  97483.56,  97427.84,  96778.92,  96712.8 ,  96479.51,\n",
       "        90708.19,  89949.14,  81229.06,  81005.76,  78239.91,  77798.83,\n",
       "        71498.49,  69758.98,  65200.33,  64926.08,  49490.75,  42559.73,\n",
       "        35673.41,  14681.4 ])"
      ]
     },
     "execution_count": 8,
     "metadata": {},
     "output_type": "execute_result"
    }
   ],
   "source": [
    "df['Profit'].unique()"
   ]
  },
  {
   "cell_type": "code",
   "execution_count": 9,
   "id": "6c126091-72d9-467b-bc1f-3ab4cf7f588a",
   "metadata": {},
   "outputs": [
    {
     "data": {
      "image/png": "[encoded data removed]",
      "text/plain": [
       "<Figure size 432x288 with 1 Axes>"
      ]
     },
     "metadata": {
      "needs_background": "light"
     },
     "output_type": "display_data"
    },
    {
     "data": {
      "image/png": "[encoded data removed]",
      "text/plain": [
       "<Figure size 432x288 with 1 Axes>"
      ]
     },
     "metadata": {
      "needs_background": "light"
     },
     "output_type": "display_data"
    },
    {
     "data": {
      "image/png": "[encoded data removed]",
      "text/plain": [
       "<Figure size 432x288 with 1 Axes>"
      ]
     },
     "metadata": {
      "needs_background": "light"
     },
     "output_type": "display_data"
    },
    {
     "data": {
      "image/png": "[encoded data removed]",
      "text/plain": [
       "<Figure size 432x288 with 1 Axes>"
      ]
     },
     "metadata": {
      "needs_background": "light"
     },
     "output_type": "display_data"
    }
   ],
   "source": [
    "for i in df.columns[:-1]:\n",
    "    df[i].hist(bins=20)\n",
    "    plt.title(i)\n",
    "    plt.show()"
   ]
  },
  {
   "cell_type": "code",
   "execution_count": 10,
   "id": "2969ab91-8699-463f-a578-0b6dc14dfc4f",
   "metadata": {},
   "outputs": [
    {
     "data": {
      "image/png": "[encoded data removed]",
      "text/plain": [
       "<Figure size 432x288 with 1 Axes>"
      ]
     },
     "metadata": {
      "needs_background": "light"
     },
     "output_type": "display_data"
    },
    {
     "data": {
      "image/png": "[encoded data removed]",
      "text/plain": [
       "<Figure size 432x288 with 1 Axes>"
      ]
     },
     "metadata": {
      "needs_background": "light"
     },
     "output_type": "display_data"
    },
    {
     "data": {
      "image/png": "[encoded data removed]",
      "text/plain": [
       "<Figure size 432x288 with 1 Axes>"
      ]
     },
     "metadata": {
      "needs_background": "light"
     },
     "output_type": "display_data"
    }
   ],
   "source": [
    "for i in df.columns[:-2]:\n",
    "    plt.scatter(df['Profit'],df[i])\n",
    "    plt.title(i+'vs Profit')\n",
    "    plt.grid()\n",
    "    plt.show()"
   ]
  },
  {
   "cell_type": "code",
   "execution_count": 11,
   "id": "86b69518-635e-4577-bfaa-db98d6afa52d",
   "metadata": {},
   "outputs": [],
   "source": [
    "import seaborn as sns"
   ]
  },
  {
   "cell_type": "code",
   "execution_count": 12,
   "id": "375f95ad-9cc7-44ce-b54b-439235adcd1b",
   "metadata": {},
   "outputs": [
    {
     "data": {
      "text/plain": [
       "<seaborn.axisgrid.PairGrid at 0x359db0ad90>"
      ]
     },
     "execution_count": 12,
     "metadata": {},
     "output_type": "execute_result"
    },
    {
     "data": {
      "image/png": "[encoded data removed]",
      "text/plain": [
       "<Figure size 720x720 with 20 Axes>"
      ]
     },
     "metadata": {
      "needs_background": "light"
     },
     "output_type": "display_data"
    }
   ],
   "source": [
    "sns.pairplot(df, kind='reg')"
   ]
  },
  {
   "cell_type": "markdown",
   "id": "7df2eacf-fd74-453c-bb93-105fadc8972e",
   "metadata": {},
   "source": [
    "### creating labels"
   ]
  },
  {
   "cell_type": "code",
   "execution_count": 13,
   "id": "7e1077a0-fced-4675-a3f8-47286d4c64a3",
   "metadata": {},
   "outputs": [],
   "source": [
    "x = df[['R&D Spend','Administration','Marketing Spend']]\n",
    "y = df['Profit']"
   ]
  },
  {
   "cell_type": "code",
   "execution_count": 14,
   "id": "5921b583-92d7-49e0-a3fe-433bf658b664",
   "metadata": {},
   "outputs": [
    {
     "name": "stdout",
     "output_type": "stream",
     "text": [
      "<class 'pandas.core.frame.DataFrame'>\n",
      "RangeIndex: 50 entries, 0 to 49\n",
      "Data columns (total 3 columns):\n",
      " #   Column           Non-Null Count  Dtype  \n",
      "---  ------           --------------  -----  \n",
      " 0   R&D Spend        50 non-null     float64\n",
      " 1   Administration   50 non-null     float64\n",
      " 2   Marketing Spend  50 non-null     float64\n",
      "dtypes: float64(3)\n",
      "memory usage: 1.3 KB\n"
     ]
    }
   ],
   "source": [
    "x.info()"
   ]
  },
  {
   "cell_type": "raw",
   "id": "f13eac13-ef49-408f-914a-d517098fc509",
   "metadata": {},
   "source": [
    "### splitting the data"
   ]
  },
  {
   "cell_type": "code",
   "execution_count": 15,
   "id": "74087e5d-07d0-4f65-9d59-244bf3450646",
   "metadata": {},
   "outputs": [],
   "source": [
    "from sklearn.model_selection import train_test_split"
   ]
  },
  {
   "cell_type": "code",
   "execution_count": 16,
   "id": "0dd73d8a-fb57-40ff-a28f-3b6f3f6fbca7",
   "metadata": {},
   "outputs": [],
   "source": [
    "xtrain,xtest,ytrain,ytest = train_test_split(x,y,test_size=0.25,random_state=10)"
   ]
  },
  {
   "cell_type": "code",
   "execution_count": 17,
   "id": "daaae4b8-dec7-4685-9a22-f7550c6f8663",
   "metadata": {},
   "outputs": [
    {
     "name": "stdout",
     "output_type": "stream",
     "text": [
      "<class 'pandas.core.frame.DataFrame'>\n",
      "Int64Index: 37 entries, 32 to 9\n",
      "Data columns (total 3 columns):\n",
      " #   Column           Non-Null Count  Dtype  \n",
      "---  ------           --------------  -----  \n",
      " 0   R&D Spend        37 non-null     float64\n",
      " 1   Administration   37 non-null     float64\n",
      " 2   Marketing Spend  37 non-null     float64\n",
      "dtypes: float64(3)\n",
      "memory usage: 1.2 KB\n"
     ]
    }
   ],
   "source": [
    "xtrain.info()"
   ]
  },
  {
   "cell_type": "code",
   "execution_count": 18,
   "id": "7822425a-8652-41ce-97b2-72f4457fd2cc",
   "metadata": {},
   "outputs": [
    {
     "name": "stdout",
     "output_type": "stream",
     "text": [
      "<class 'pandas.core.frame.DataFrame'>\n",
      "Int64Index: 13 entries, 37 to 40\n",
      "Data columns (total 3 columns):\n",
      " #   Column           Non-Null Count  Dtype  \n",
      "---  ------           --------------  -----  \n",
      " 0   R&D Spend        13 non-null     float64\n",
      " 1   Administration   13 non-null     float64\n",
      " 2   Marketing Spend  13 non-null     float64\n",
      "dtypes: float64(3)\n",
      "memory usage: 416.0 bytes\n"
     ]
    }
   ],
   "source": [
    "xtest.info()"
   ]
  },
  {
   "cell_type": "markdown",
   "id": "b93e9d71-b36b-40c0-a78f-72a2aad8ae0f",
   "metadata": {},
   "source": [
    "### creating the ML model"
   ]
  },
  {
   "cell_type": "code",
   "execution_count": 19,
   "id": "075cba44-6897-43f3-98d2-5204caf2d3e1",
   "metadata": {},
   "outputs": [],
   "source": [
    "from sklearn.linear_model import LinearRegression"
   ]
  },
  {
   "cell_type": "code",
   "execution_count": 20,
   "id": "352e6c25-c8a9-4a99-a30f-6147936f30fc",
   "metadata": {},
   "outputs": [],
   "source": [
    "model = LinearRegression()"
   ]
  },
  {
   "cell_type": "markdown",
   "id": "9b63cefa-518a-42a3-9316-aa65c87c0d35",
   "metadata": {},
   "source": [
    "### training the model with training data"
   ]
  },
  {
   "cell_type": "code",
   "execution_count": 21,
   "id": "e258dd80-cf97-4ba3-9141-b1a77ef1ed5a",
   "metadata": {},
   "outputs": [
    {
     "data": {
      "text/plain": [
       "LinearRegression()"
      ]
     },
     "execution_count": 21,
     "metadata": {},
     "output_type": "execute_result"
    }
   ],
   "source": [
    "model.fit(xtrain,ytrain)"
   ]
  },
  {
   "cell_type": "code",
   "execution_count": 22,
   "id": "353dcec9-a383-4ddc-a2b8-3d29b1614166",
   "metadata": {},
   "outputs": [
    {
     "data": {
      "text/plain": [
       "array([ 0.79394275, -0.00790195,  0.02329247])"
      ]
     },
     "execution_count": 22,
     "metadata": {},
     "output_type": "execute_result"
    }
   ],
   "source": [
    "model.coef_"
   ]
  },
  {
   "cell_type": "code",
   "execution_count": 23,
   "id": "79bae008-c3c3-4a7a-b132-4df830dd7b24",
   "metadata": {},
   "outputs": [
    {
     "data": {
      "text/html": [
       "<div>\n",
       "<style scoped>\n",
       "    .dataframe tbody tr th:only-of-type {\n",
       "        vertical-align: middle;\n",
       "    }\n",
       "\n",
       "    .dataframe tbody tr th {\n",
       "        vertical-align: top;\n",
       "    }\n",
       "\n",
       "    .dataframe thead th {\n",
       "        text-align: right;\n",
       "    }\n",
       "</style>\n",
       "<table border=\"1\" class=\"dataframe\">\n",
       "  <thead>\n",
       "    <tr style=\"text-align: right;\">\n",
       "      <th></th>\n",
       "      <th>coef.</th>\n",
       "    </tr>\n",
       "  </thead>\n",
       "  <tbody>\n",
       "    <tr>\n",
       "      <th>R&amp;D Spend</th>\n",
       "      <td>0.793943</td>\n",
       "    </tr>\n",
       "    <tr>\n",
       "      <th>Administration</th>\n",
       "      <td>-0.007902</td>\n",
       "    </tr>\n",
       "    <tr>\n",
       "      <th>Marketing Spend</th>\n",
       "      <td>0.023292</td>\n",
       "    </tr>\n",
       "  </tbody>\n",
       "</table>\n",
       "</div>"
      ],
      "text/plain": [
       "                    coef.\n",
       "R&D Spend        0.793943\n",
       "Administration  -0.007902\n",
       "Marketing Spend  0.023292"
      ]
     },
     "execution_count": 23,
     "metadata": {},
     "output_type": "execute_result"
    }
   ],
   "source": [
    "pd.DataFrame(model.coef_, columns=['coef.'], index=x.columns)"
   ]
  },
  {
   "cell_type": "markdown",
   "id": "202816c3-06b6-4ee7-b49b-2501098cab0e",
   "metadata": {},
   "source": [
    "### evluation"
   ]
  },
  {
   "cell_type": "code",
   "execution_count": 24,
   "id": "08382e82-65bc-4cfd-9904-72af1df15cd1",
   "metadata": {},
   "outputs": [
    {
     "name": "stdout",
     "output_type": "stream",
     "text": [
      "98.8%\n"
     ]
    }
   ],
   "source": [
    "print('%.1f%%'%(model.score(xtest,ytest)*100))"
   ]
  },
  {
   "cell_type": "code",
   "execution_count": 25,
   "id": "1f584f09-9a43-4b28-8b12-29be81744155",
   "metadata": {},
   "outputs": [
    {
     "data": {
      "text/plain": [
       "array([ 88361.6924659 , 109068.75037541,  66233.18132181,  70645.38100143,\n",
       "        48118.47333074, 115786.66944536, 171799.96557761,  99617.55808099,\n",
       "       159031.78297409, 157877.26074356,  83222.30531514, 179714.94106163,\n",
       "        75105.99525989])"
      ]
     },
     "execution_count": 25,
     "metadata": {},
     "output_type": "execute_result"
    }
   ],
   "source": [
    "ypred  = model.predict(xtest)\n",
    "ypred"
   ]
  },
  {
   "cell_type": "code",
   "execution_count": 26,
   "id": "15d0b7f2-083b-40a3-a7cf-ded37462ed38",
   "metadata": {},
   "outputs": [
    {
     "data": {
      "text/plain": [
       "37     89949.14\n",
       "23    108733.99\n",
       "44     65200.33\n",
       "42     71498.49\n",
       "47     42559.73\n",
       "20    118474.03\n",
       "3     182901.99\n",
       "30     99937.59\n",
       "7     155752.60\n",
       "6     156122.51\n",
       "39     81005.76\n",
       "2     191050.39\n",
       "40     78239.91\n",
       "Name: Profit, dtype: float64"
      ]
     },
     "execution_count": 26,
     "metadata": {},
     "output_type": "execute_result"
    }
   ],
   "source": [
    "ytest"
   ]
  },
  {
   "cell_type": "code",
   "execution_count": 27,
   "id": "e92fce44-1ff1-4292-be99-93570483c97b",
   "metadata": {},
   "outputs": [],
   "source": [
    "from sklearn.metrics import mean_absolute_error"
   ]
  },
  {
   "cell_type": "code",
   "execution_count": 28,
   "id": "e18742ba-5a59-4699-9bff-c77fe19fdc64",
   "metadata": {},
   "outputs": [
    {
     "name": "stdout",
     "output_type": "stream",
     "text": [
      "3476.6285513802677\n"
     ]
    }
   ],
   "source": [
    "print(mean_absolute_error(ytest, ypred))"
   ]
  },
  {
   "cell_type": "code",
   "execution_count": 29,
   "id": "2e89af0e-ce45-4486-ad36-05158f14430c",
   "metadata": {},
   "outputs": [
    {
     "data": {
      "text/plain": [
       "3.93454273493219"
      ]
     },
     "execution_count": 29,
     "metadata": {},
     "output_type": "execute_result"
    }
   ],
   "source": [
    "100*mean_absolute_error(ytest, ypred)/ypred[0]"
   ]
  },
  {
   "cell_type": "markdown",
   "id": "82734978-9e40-4c8a-986d-41bfb6ad7500",
   "metadata": {},
   "source": [
    "### conclusion"
   ]
  },
  {
   "cell_type": "code",
   "execution_count": 30,
   "id": "41739e49-a6ba-4889-8457-d5f030fbc46b",
   "metadata": {},
   "outputs": [],
   "source": [
    "final_model = model"
   ]
  },
  {
   "cell_type": "code",
   "execution_count": 31,
   "id": "ea66688f-b201-4f48-9be3-d8388be7eb7f",
   "metadata": {},
   "outputs": [],
   "source": [
    "pd.to_pickle(final_model, 'Profit')"
   ]
  },
  {
   "cell_type": "code",
   "execution_count": null,
   "id": "84ad3943-e112-4496-b192-b06d54623f9f",
   "metadata": {},
   "outputs": [],
   "source": []
  },
  {
   "cell_type": "markdown",
   "id": "9a78ad91-2cae-4c56-ac16-84343f029d41",
   "metadata": {},
   "source": [
    "# GUI"
   ]
  },
  {
   "cell_type": "code",
   "execution_count": 32,
   "id": "585abdc8-1beb-4e20-bd62-de3c4617e857",
   "metadata": {},
   "outputs": [],
   "source": [
    "import pandas as pd\n",
    "import warnings\n",
    "import tkinter as tk\n",
    "warnings.filterwarnings('ignore')\n",
    "from sklearn.model_selection import train_test_split\n",
    "from sklearn.linear_model import LinearRegression\n",
    "from sklearn.metrics import mean_absolute_error"
   ]
  },
  {
   "cell_type": "code",
   "execution_count": 33,
   "id": "b22a4b43-849d-40d3-ae80-3efe68f7d59b",
   "metadata": {},
   "outputs": [],
   "source": [
    "app = tk.Tk()\n",
    "app.title('Profit Predictor')\n",
    "app.geometry('500x400')\n",
    "app.configure(bg = '#080808')\n",
    "\n",
    "     \n",
    "RnD_Spend = tk.StringVar()\n",
    "Adminstration = tk.StringVar()\n",
    "Marketing_Spend = tk.StringVar()\n",
    "State = tk.StringVar()\n",
    "\n",
    "tk.Label(app, text='R&D_Spend:',font=('Times New Roman', 12, 'bold')).place(x=25, y=35)\n",
    "tk.Label(app, text='Adminstration:',font=('Times New Roman', 12, 'bold')).place(x=25, y=70)\n",
    "tk.Label(app, text='Marketing_Spend:',font=('Times New Roman', 12, 'bold')).place(x=25, y=105)\n",
    "\n",
    "tk.Entry(app, width=30, bg='#ffffff', textvariable=RnD_Spend).place(x=270,y=35)\n",
    "tk.Entry(app, width=30, bg='#ffffff', textvariable=Adminstration).place(x=270,y=70)\n",
    "tk.Entry(app, width=30, bg='#ffffff', textvariable=Marketing_Spend).place(x=270,y=105)\n",
    "\n",
    "df=pd.read_csv('50_startups.csv')\n",
    "\n",
    "x = df[['R&D Spend','Administration','Marketing Spend']]\n",
    "y = df['Profit']\n",
    "xtrain , xtest,ytrain,ytest=train_test_split(x,y,test_size=0.25,random_state=10)\n",
    "model=LinearRegression()\n",
    "model.fit(xtrain,ytrain)\n",
    "model.coef_\n",
    "pd.DataFrame(model.coef_,columns=['coef_'],index=x.columns)\n",
    "ypred=model.predict(xtest)\n",
    "final_model=model\n",
    "pd.to_pickle(final_model,'Profit')\n",
    "model=pd.read_pickle('Profit')\n",
    "\n",
    "def predictor():\n",
    "    \n",
    "    a=RnD_Spend.get()\n",
    "    b=Adminstration.get()\n",
    "    c=Marketing_Spend.get()\n",
    "    #d=State.get()\n",
    "    \n",
    "    RnD_Spend.set('')\n",
    "    Adminstration.set('')\n",
    "    Marketing_Spend.set('')\n",
    "    #State.set('')\n",
    "    \n",
    "    query = pd.DataFrame({'RnD_Spend':[a],\n",
    "                     'Adminstration':[b],\n",
    "                      'Marketing_Spend':[c]\n",
    "                     })\n",
    "    Predictor_var=tk.Variable(app)\n",
    "    Predictor_var.set('%.1f$'%(model.predict(query)[0]))\n",
    "   \n",
    "    \n",
    "    Profit=tk.Label(app,text='Predicted Profit :',font=('Times New Roman', 12, 'bold')).place(x=25,y=300)\n",
    "    Profit=tk.Label(app,text =\"Predicted Profit :\",textvariable=Predictor_var,font=('Times New Roman', 12, 'bold')).place(x=270,y=300)\n",
    "    \n",
    "tk.Button(app, text='Suggest Profit', command=predictor , bg='#e62c2c').place(x=180, y=240)\n",
    "\n",
    "app.mainloop()"
   ]
  },
  {
   "cell_type": "code",
   "execution_count": null,
   "id": "55864fff-07f7-4bd3-a459-51dee2edcd52",
   "metadata": {},
   "outputs": [],
   "source": []
  }
 ],
 "metadata": {
  "kernelspec": {
   "display_name": "Python 3",
   "language": "python",
   "name": "python3"
  },
  "language_info": {
   "codemirror_mode": {
    "name": "ipython",
    "version": 3
   },
   "file_extension": ".py",
   "mimetype": "text/x-python",
   "name": "python",
   "nbconvert_exporter": "python",
   "pygments_lexer": "ipython3",
   "version": "3.8.8"
  }
 },
 "nbformat": 4,
 "nbformat_minor": 5
}
