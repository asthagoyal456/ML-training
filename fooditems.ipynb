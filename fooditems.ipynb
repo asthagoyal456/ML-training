{
 "cells": [
  {
   "cell_type": "code",
   "execution_count": 28,
   "id": "c3791189-69ec-4566-acaa-3d5fbdffcf6f",
   "metadata": {},
   "outputs": [],
   "source": [
    "import numpy as np\n",
    "import pandas as pd"
   ]
  },
  {
   "cell_type": "code",
   "execution_count": 29,
   "id": "3f99bac6-caef-4044-aa9d-8c57f36b8b88",
   "metadata": {},
   "outputs": [
    {
     "data": {
      "text/html": [
       "<div>\n",
       "<style scoped>\n",
       "    .dataframe tbody tr th:only-of-type {\n",
       "        vertical-align: middle;\n",
       "    }\n",
       "\n",
       "    .dataframe tbody tr th {\n",
       "        vertical-align: top;\n",
       "    }\n",
       "\n",
       "    .dataframe thead th {\n",
       "        text-align: right;\n",
       "    }\n",
       "</style>\n",
       "<table border=\"1\" class=\"dataframe\">\n",
       "  <thead>\n",
       "    <tr style=\"text-align: right;\">\n",
       "      <th></th>\n",
       "      <th>S.NO.</th>\n",
       "      <th>name</th>\n",
       "      <th>price</th>\n",
       "      <th>location</th>\n",
       "      <th>colour</th>\n",
       "      <th>cuisine</th>\n",
       "      <th>taste</th>\n",
       "      <th>rating</th>\n",
       "    </tr>\n",
       "  </thead>\n",
       "  <tbody>\n",
       "    <tr>\n",
       "      <th>0</th>\n",
       "      <td>1</td>\n",
       "      <td>namkeen</td>\n",
       "      <td>100</td>\n",
       "      <td>bikaner</td>\n",
       "      <td>yellow</td>\n",
       "      <td>bikaneri</td>\n",
       "      <td>spicy</td>\n",
       "      <td>4.5</td>\n",
       "    </tr>\n",
       "    <tr>\n",
       "      <th>1</th>\n",
       "      <td>2</td>\n",
       "      <td>kachori</td>\n",
       "      <td>30</td>\n",
       "      <td>jaipur</td>\n",
       "      <td>orange</td>\n",
       "      <td>jaipuri</td>\n",
       "      <td>spicy</td>\n",
       "      <td>5.0</td>\n",
       "    </tr>\n",
       "    <tr>\n",
       "      <th>2</th>\n",
       "      <td>3</td>\n",
       "      <td>paneer</td>\n",
       "      <td>80</td>\n",
       "      <td>ajmer</td>\n",
       "      <td>white</td>\n",
       "      <td>ajmeri</td>\n",
       "      <td>sweet</td>\n",
       "      <td>4.0</td>\n",
       "    </tr>\n",
       "    <tr>\n",
       "      <th>3</th>\n",
       "      <td>4</td>\n",
       "      <td>dhokla</td>\n",
       "      <td>20</td>\n",
       "      <td>gujrat</td>\n",
       "      <td>yellow</td>\n",
       "      <td>gujrati</td>\n",
       "      <td>yummy</td>\n",
       "      <td>3.5</td>\n",
       "    </tr>\n",
       "    <tr>\n",
       "      <th>4</th>\n",
       "      <td>5</td>\n",
       "      <td>dal bhati</td>\n",
       "      <td>150</td>\n",
       "      <td>rajasthan</td>\n",
       "      <td>brown</td>\n",
       "      <td>rajasthani</td>\n",
       "      <td>spicy</td>\n",
       "      <td>5.0</td>\n",
       "    </tr>\n",
       "    <tr>\n",
       "      <th>5</th>\n",
       "      <td>6</td>\n",
       "      <td>pizza</td>\n",
       "      <td>200</td>\n",
       "      <td>italy</td>\n",
       "      <td>white</td>\n",
       "      <td>italian</td>\n",
       "      <td>yummy</td>\n",
       "      <td>5.0</td>\n",
       "    </tr>\n",
       "    <tr>\n",
       "      <th>6</th>\n",
       "      <td>7</td>\n",
       "      <td>pasta</td>\n",
       "      <td>180</td>\n",
       "      <td>italy</td>\n",
       "      <td>red</td>\n",
       "      <td>italian</td>\n",
       "      <td>spicy</td>\n",
       "      <td>4.7</td>\n",
       "    </tr>\n",
       "    <tr>\n",
       "      <th>7</th>\n",
       "      <td>8</td>\n",
       "      <td>gulab jamun</td>\n",
       "      <td>50</td>\n",
       "      <td>jaipur</td>\n",
       "      <td>brown</td>\n",
       "      <td>jaipuri</td>\n",
       "      <td>sweet</td>\n",
       "      <td>4.8</td>\n",
       "    </tr>\n",
       "    <tr>\n",
       "      <th>8</th>\n",
       "      <td>9</td>\n",
       "      <td>rasgulla</td>\n",
       "      <td>70</td>\n",
       "      <td>bikaner</td>\n",
       "      <td>white</td>\n",
       "      <td>bikaneri</td>\n",
       "      <td>sweet</td>\n",
       "      <td>4.9</td>\n",
       "    </tr>\n",
       "  </tbody>\n",
       "</table>\n",
       "</div>"
      ],
      "text/plain": [
       "   S.NO.         name  price   location  colour     cuisine  taste  rating\n",
       "0      1      namkeen    100    bikaner  yellow    bikaneri  spicy     4.5\n",
       "1      2      kachori     30     jaipur  orange     jaipuri  spicy     5.0\n",
       "2      3       paneer     80      ajmer   white      ajmeri  sweet     4.0\n",
       "3      4       dhokla     20     gujrat  yellow     gujrati  yummy     3.5\n",
       "4      5    dal bhati    150  rajasthan   brown  rajasthani  spicy     5.0\n",
       "5      6        pizza    200      italy   white     italian  yummy     5.0\n",
       "6      7        pasta    180      italy     red     italian  spicy     4.7\n",
       "7      8  gulab jamun     50     jaipur   brown     jaipuri  sweet     4.8\n",
       "8      9     rasgulla     70    bikaner   white    bikaneri  sweet     4.9"
      ]
     },
     "execution_count": 29,
     "metadata": {},
     "output_type": "execute_result"
    }
   ],
   "source": [
    "df = pd.read_excel('food.xlsx')\n",
    "df"
   ]
  },
  {
   "cell_type": "markdown",
   "id": "97ea84c2-8746-4237-b7fb-8549936a5720",
   "metadata": {},
   "source": [
    "# COSTLIEST FOOD"
   ]
  },
  {
   "cell_type": "code",
   "execution_count": 30,
   "id": "58867759-4720-44cb-9ad1-da70c7ee12c1",
   "metadata": {},
   "outputs": [
    {
     "data": {
      "text/plain": [
       "'pizza'"
      ]
     },
     "execution_count": 30,
     "metadata": {},
     "output_type": "execute_result"
    }
   ],
   "source": [
    "df.loc[df['price'].idxmax(),'name']"
   ]
  },
  {
   "cell_type": "markdown",
   "id": "e874c900-4f79-4bda-acf6-8792aa739b4b",
   "metadata": {},
   "source": [
    "# CHEAPEST FOOD"
   ]
  },
  {
   "cell_type": "code",
   "execution_count": 31,
   "id": "28a0da1d-ee4e-41e1-9ab5-0e6fe1a62889",
   "metadata": {},
   "outputs": [
    {
     "data": {
      "text/plain": [
       "'dhokla'"
      ]
     },
     "execution_count": 31,
     "metadata": {},
     "output_type": "execute_result"
    }
   ],
   "source": [
    "df.loc[df['price'].idxmin(),'name']"
   ]
  },
  {
   "cell_type": "markdown",
   "id": "d5f2b32e-d369-467f-a2c6-18ec14a8f21c",
   "metadata": {},
   "source": [
    "# ORANGE FOOD IN JAIPUR"
   ]
  },
  {
   "cell_type": "code",
   "execution_count": 32,
   "id": "35253b5e-cde5-41a2-8773-11a256c2b6d9",
   "metadata": {},
   "outputs": [
    {
     "data": {
      "text/html": [
       "<div>\n",
       "<style scoped>\n",
       "    .dataframe tbody tr th:only-of-type {\n",
       "        vertical-align: middle;\n",
       "    }\n",
       "\n",
       "    .dataframe tbody tr th {\n",
       "        vertical-align: top;\n",
       "    }\n",
       "\n",
       "    .dataframe thead th {\n",
       "        text-align: right;\n",
       "    }\n",
       "</style>\n",
       "<table border=\"1\" class=\"dataframe\">\n",
       "  <thead>\n",
       "    <tr style=\"text-align: right;\">\n",
       "      <th></th>\n",
       "      <th>S.NO.</th>\n",
       "      <th>name</th>\n",
       "      <th>price</th>\n",
       "      <th>location</th>\n",
       "      <th>colour</th>\n",
       "      <th>cuisine</th>\n",
       "      <th>taste</th>\n",
       "      <th>rating</th>\n",
       "    </tr>\n",
       "  </thead>\n",
       "  <tbody>\n",
       "    <tr>\n",
       "      <th>1</th>\n",
       "      <td>2</td>\n",
       "      <td>kachori</td>\n",
       "      <td>30</td>\n",
       "      <td>jaipur</td>\n",
       "      <td>orange</td>\n",
       "      <td>jaipuri</td>\n",
       "      <td>spicy</td>\n",
       "      <td>5.0</td>\n",
       "    </tr>\n",
       "  </tbody>\n",
       "</table>\n",
       "</div>"
      ],
      "text/plain": [
       "   S.NO.     name  price location  colour  cuisine  taste  rating\n",
       "1      2  kachori     30   jaipur  orange  jaipuri  spicy     5.0"
      ]
     },
     "execution_count": 32,
     "metadata": {},
     "output_type": "execute_result"
    }
   ],
   "source": [
    "df[(df['location']=='jaipur') & (df['colour']=='orange')]"
   ]
  },
  {
   "cell_type": "markdown",
   "id": "5d2ee08e-942e-4dc0-8f64-a8c10d948c57",
   "metadata": {},
   "source": [
    "# which cusine is most poplular"
   ]
  },
  {
   "cell_type": "code",
   "execution_count": 33,
   "id": "bfce49bd-6862-46f7-8244-9a760535b9cb",
   "metadata": {},
   "outputs": [
    {
     "name": "stdout",
     "output_type": "stream",
     "text": [
      "Most Popular Cuisine =  jaipuri\n",
      "Most Popular Cuisine =  rajasthani\n",
      "Most Popular Cuisine =  italian\n"
     ]
    }
   ],
   "source": [
    "for x in df.index:\n",
    "    if df.loc[x,'rating']==df[\"rating\"].max():\n",
    "          print('Most Popular Cuisine = ',df.loc[x,'cuisine'])"
   ]
  },
  {
   "cell_type": "markdown",
   "id": "2e395cdf-df41-464a-9323-0ee157099745",
   "metadata": {},
   "source": [
    "# count of taste"
   ]
  },
  {
   "cell_type": "code",
   "execution_count": 34,
   "id": "48568fce-484b-4187-9d34-23ed186a677f",
   "metadata": {},
   "outputs": [
    {
     "data": {
      "text/plain": [
       "spicy    4\n",
       "sweet    3\n",
       "yummy    2\n",
       "Name: taste, dtype: int64"
      ]
     },
     "execution_count": 34,
     "metadata": {},
     "output_type": "execute_result"
    }
   ],
   "source": [
    "df['taste'].value_counts()"
   ]
  },
  {
   "cell_type": "markdown",
   "id": "f949ac97-f602-4baa-bcca-b069480f52b1",
   "metadata": {},
   "source": [
    "# food avaliable in jpr and is sweet"
   ]
  },
  {
   "cell_type": "code",
   "execution_count": 35,
   "id": "580d756a-c177-40d4-b8fb-3558f444a28a",
   "metadata": {},
   "outputs": [
    {
     "data": {
      "text/html": [
       "<div>\n",
       "<style scoped>\n",
       "    .dataframe tbody tr th:only-of-type {\n",
       "        vertical-align: middle;\n",
       "    }\n",
       "\n",
       "    .dataframe tbody tr th {\n",
       "        vertical-align: top;\n",
       "    }\n",
       "\n",
       "    .dataframe thead th {\n",
       "        text-align: right;\n",
       "    }\n",
       "</style>\n",
       "<table border=\"1\" class=\"dataframe\">\n",
       "  <thead>\n",
       "    <tr style=\"text-align: right;\">\n",
       "      <th></th>\n",
       "      <th>S.NO.</th>\n",
       "      <th>name</th>\n",
       "      <th>price</th>\n",
       "      <th>location</th>\n",
       "      <th>colour</th>\n",
       "      <th>cuisine</th>\n",
       "      <th>taste</th>\n",
       "      <th>rating</th>\n",
       "    </tr>\n",
       "  </thead>\n",
       "  <tbody>\n",
       "    <tr>\n",
       "      <th>7</th>\n",
       "      <td>8</td>\n",
       "      <td>gulab jamun</td>\n",
       "      <td>50</td>\n",
       "      <td>jaipur</td>\n",
       "      <td>brown</td>\n",
       "      <td>jaipuri</td>\n",
       "      <td>sweet</td>\n",
       "      <td>4.8</td>\n",
       "    </tr>\n",
       "  </tbody>\n",
       "</table>\n",
       "</div>"
      ],
      "text/plain": [
       "   S.NO.         name  price location colour  cuisine  taste  rating\n",
       "7      8  gulab jamun     50   jaipur  brown  jaipuri  sweet     4.8"
      ]
     },
     "execution_count": 35,
     "metadata": {},
     "output_type": "execute_result"
    }
   ],
   "source": [
    "df[(df['location']=='jaipur') & (df['taste']=='sweet')]"
   ]
  },
  {
   "cell_type": "code",
   "execution_count": null,
   "id": "00cb11af-7cf0-441b-a3ea-1b78f52a5440",
   "metadata": {},
   "outputs": [],
   "source": []
  }
 ],
 "metadata": {
  "kernelspec": {
   "display_name": "Python 3",
   "language": "python",
   "name": "python3"
  },
  "language_info": {
   "codemirror_mode": {
    "name": "ipython",
    "version": 3
   },
   "file_extension": ".py",
   "mimetype": "text/x-python",
   "name": "python",
   "nbconvert_exporter": "python",
   "pygments_lexer": "ipython3",
   "version": "3.8.8"
  }
 },
 "nbformat": 4,
 "nbformat_minor": 5
}
