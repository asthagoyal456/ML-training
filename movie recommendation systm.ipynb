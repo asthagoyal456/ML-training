{
 "cells": [
  {
   "cell_type": "code",
   "execution_count": 2,
   "id": "ce069809-f98c-439f-b415-a0bb904e1309",
   "metadata": {},
   "outputs": [],
   "source": [
    "import pandas as pd\n",
    "import warnings\n",
    "import tkinter as tk\n",
    "\n",
    "warnings.filterwarnings('ignore')"
   ]
  },
  {
   "cell_type": "code",
   "execution_count": 17,
   "id": "8d43e197-9599-49e8-80b6-7d81316fbdea",
   "metadata": {},
   "outputs": [],
   "source": [
    "\n",
    "cols = 'user_id item_id rating timestamp'.split()\n",
    "df = pd.read_csv('u.data',sep='\\t',names=cols)\n",
    "cols_movie = ['item_id', 'title']+[str(i) for i in range(22)]\n",
    "movie_titles = pd.read_csv('u.item',sep='|',names=cols_movie)\n",
    "data = pd.merge(df,movie_titles, on='item_id')\n",
    "rating = pd.DataFrame(data.groupby('title')['rating'].mean())\n",
    "rating['count'] = data['title'].value_counts()\n",
    "pivot_df = data.pivot_table(index = 'user_id', columns = 'title', values= 'rating')\n",
    "\n",
    "app = tk.Tk()\n",
    "app.title('Movie Recommender system')\n",
    "app.geometry('400x200')\n",
    "app.configure(bg = '#000000')\n",
    "\n",
    "tk.Label(app, text='Movie you watched:').place(x=25, y=25)\n",
    "tk.Label(app, text='Recommended:').place(x=25, y=100)\n",
    "tk.Label(app, text='Also try:').place(x=25, y=120)\n",
    "\n",
    "\n",
    "movie_var = tk.Variable(app)\n",
    "tk.Entry(app, textvariable=movie_var, width=28).place(x=170,y=25)\n",
    "\n",
    "recommend_var = tk.Variable(app)\n",
    "recommend_var.set('Type movie name...')\n",
    "tk.Label(app, textvariable=recommend_var).place(x=170, y=100)\n",
    "\n",
    "also_try_var = tk.Variable(app)\n",
    "also_try_var.set('Type movie name...')\n",
    "tk.Label(app, textvariable=also_try_var).place(x=170, y=120)\n",
    "\n",
    "def find_recommendation():\n",
    "    movie = movie_var.get().lower().strip()\n",
    "    if movie:\n",
    "        try:\n",
    "            movie = movie_titles['title'][movie_titles['title'].apply(lambda x:movie in x.lower())].values[0]\n",
    "            movie_var.set(movie)\n",
    "        except IndexError:\n",
    "            recommend_var.set('Movie not Found')\n",
    "            also_try_var.set('Movie not Found')\n",
    "        else: \n",
    "            corr_df = pd.DataFrame(pivot_df.corrwith(pivot_df[movie]), columns=['correlation'])\n",
    "            corr_df.dropna(inplace=True)\n",
    "            corr_df = corr_df.join(rating['count'])\n",
    "            recommend_var.set(corr_df[(corr_df['count']<200)&(corr_df['correlation']>0.4)].sort_values(by='correlation', ascending=False).index[1])\n",
    "            also_try_var.set(corr_df[corr_df['correlation']>0.4].sort_values(by='correlation', ascending=False).index[0])\n",
    "        \n",
    "tk.Button(app, text='find Suggestion', command=find_recommendation, bg='#3564bd').place(x=125, y=60)\n",
    "\n",
    "app.mainloop()"
   ]
  },
  {
   "cell_type": "code",
   "execution_count": null,
   "id": "8b6023b9-5763-46ae-87a0-8b66824a2973",
   "metadata": {},
   "outputs": [],
   "source": []
  }
 ],
 "metadata": {
  "kernelspec": {
   "display_name": "Python 3",
   "language": "python",
   "name": "python3"
  },
  "language_info": {
   "codemirror_mode": {
    "name": "ipython",
    "version": 3
   },
   "file_extension": ".py",
   "mimetype": "text/x-python",
   "name": "python",
   "nbconvert_exporter": "python",
   "pygments_lexer": "ipython3",
   "version": "3.8.8"
  }
 },
 "nbformat": 4,
 "nbformat_minor": 5
}
