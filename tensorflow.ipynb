{
 "cells": [
  {
   "cell_type": "code",
   "execution_count": 1,
   "id": "91ff15a6-6039-4c39-9e1e-9e7be39063f6",
   "metadata": {},
   "outputs": [],
   "source": [
    "import tensorflow as tf"
   ]
  },
  {
   "cell_type": "code",
   "execution_count": 2,
   "id": "63f13898-4c3b-4cb4-b7e6-0b3886f99a7e",
   "metadata": {},
   "outputs": [],
   "source": [
    "import tensorflow.keras.datasets as data"
   ]
  },
  {
   "cell_type": "code",
   "execution_count": 3,
   "id": "4e74d7e6-ce4b-4031-84a7-386ed12c9eab",
   "metadata": {},
   "outputs": [
    {
     "name": "stdout",
     "output_type": "stream",
     "text": [
      "Downloading data from https://storage.googleapis.com/tensorflow/tf-keras-datasets/train-labels-idx1-ubyte.gz\n",
      "32768/29515 [=================================] - 0s 2us/step\n",
      "Downloading data from https://storage.googleapis.com/tensorflow/tf-keras-datasets/train-images-idx3-ubyte.gz\n",
      "26427392/26421880 [==============================] - 21s 1us/step\n",
      "Downloading data from https://storage.googleapis.com/tensorflow/tf-keras-datasets/t10k-labels-idx1-ubyte.gz\n",
      "8192/5148 [===============================================] - 0s 0s/step\n",
      "Downloading data from https://storage.googleapis.com/tensorflow/tf-keras-datasets/t10k-images-idx3-ubyte.gz\n",
      "4423680/4422102 [==============================] - 4s 1us/step\n"
     ]
    }
   ],
   "source": [
    "d=data.fashion_mnist.load_data()"
   ]
  },
  {
   "cell_type": "code",
   "execution_count": 4,
   "id": "1b6ea1d7-5905-4ebc-9145-12946f11a7c8",
   "metadata": {},
   "outputs": [],
   "source": [
    "(xtrain,ytrain),(xtest,ytest)=d"
   ]
  },
  {
   "cell_type": "code",
   "execution_count": 5,
   "id": "a8370eba-a9b1-409e-aaca-fb3fc785b29d",
   "metadata": {},
   "outputs": [
    {
     "data": {
      "text/plain": [
       "(60000, 28, 28)"
      ]
     },
     "execution_count": 5,
     "metadata": {},
     "output_type": "execute_result"
    }
   ],
   "source": [
    "xtrain.shape"
   ]
  },
  {
   "cell_type": "code",
   "execution_count": 6,
   "id": "11f48b74-07e2-402d-a670-68b2cad6b0a2",
   "metadata": {},
   "outputs": [],
   "source": [
    "import IPython.display as ipd"
   ]
  },
  {
   "cell_type": "code",
   "execution_count": 7,
   "id": "d5b59d83-21ca-4bf0-bb87-e0f0aa6fd82e",
   "metadata": {},
   "outputs": [
    {
     "data": {
      "text/plain": [
       "array([[  0,   0,   0,   0,   0,   0,   0,   0,   0,   0,   0,   0,   0,\n",
       "          0,   0,   0,   0,   0,   0,   0,   0,   0,   0,   0,   0,   0,\n",
       "          0,   0],\n",
       "       [  0,   0,   0,   0,   0,   0,   0,   0,   0,   0,   0,   0,   0,\n",
       "          0,   0,   0,   0,   0,   0,   0,   0,   0,   0,   0,   0,   0,\n",
       "          0,   0],\n",
       "       [  0,   0,   0,   0,   0,   0,   0,   0,   0,   0,   0,   0,   0,\n",
       "          0,   0,   0,   0,   0,   0,   0,   0,   0,   0,   0,   0,   0,\n",
       "          0,   0],\n",
       "       [  0,   0,   0,   0,   0,   0,   0,   0,   0,   0,   0,   0,   1,\n",
       "          0,   0,  13,  73,   0,   0,   1,   4,   0,   0,   0,   0,   1,\n",
       "          1,   0],\n",
       "       [  0,   0,   0,   0,   0,   0,   0,   0,   0,   0,   0,   0,   3,\n",
       "          0,  36, 136, 127,  62,  54,   0,   0,   0,   1,   3,   4,   0,\n",
       "          0,   3],\n",
       "       [  0,   0,   0,   0,   0,   0,   0,   0,   0,   0,   0,   0,   6,\n",
       "          0, 102, 204, 176, 134, 144, 123,  23,   0,   0,   0,   0,  12,\n",
       "         10,   0],\n",
       "       [  0,   0,   0,   0,   0,   0,   0,   0,   0,   0,   0,   0,   0,\n",
       "          0, 155, 236, 207, 178, 107, 156, 161, 109,  64,  23,  77, 130,\n",
       "         72,  15],\n",
       "       [  0,   0,   0,   0,   0,   0,   0,   0,   0,   0,   0,   1,   0,\n",
       "         69, 207, 223, 218, 216, 216, 163, 127, 121, 122, 146, 141,  88,\n",
       "        172,  66],\n",
       "       [  0,   0,   0,   0,   0,   0,   0,   0,   0,   1,   1,   1,   0,\n",
       "        200, 232, 232, 233, 229, 223, 223, 215, 213, 164, 127, 123, 196,\n",
       "        229,   0],\n",
       "       [  0,   0,   0,   0,   0,   0,   0,   0,   0,   0,   0,   0,   0,\n",
       "        183, 225, 216, 223, 228, 235, 227, 224, 222, 224, 221, 223, 245,\n",
       "        173,   0],\n",
       "       [  0,   0,   0,   0,   0,   0,   0,   0,   0,   0,   0,   0,   0,\n",
       "        193, 228, 218, 213, 198, 180, 212, 210, 211, 213, 223, 220, 243,\n",
       "        202,   0],\n",
       "       [  0,   0,   0,   0,   0,   0,   0,   0,   0,   1,   3,   0,  12,\n",
       "        219, 220, 212, 218, 192, 169, 227, 208, 218, 224, 212, 226, 197,\n",
       "        209,  52],\n",
       "       [  0,   0,   0,   0,   0,   0,   0,   0,   0,   0,   6,   0,  99,\n",
       "        244, 222, 220, 218, 203, 198, 221, 215, 213, 222, 220, 245, 119,\n",
       "        167,  56],\n",
       "       [  0,   0,   0,   0,   0,   0,   0,   0,   0,   4,   0,   0,  55,\n",
       "        236, 228, 230, 228, 240, 232, 213, 218, 223, 234, 217, 217, 209,\n",
       "         92,   0],\n",
       "       [  0,   0,   1,   4,   6,   7,   2,   0,   0,   0,   0,   0, 237,\n",
       "        226, 217, 223, 222, 219, 222, 221, 216, 223, 229, 215, 218, 255,\n",
       "         77,   0],\n",
       "       [  0,   3,   0,   0,   0,   0,   0,   0,   0,  62, 145, 204, 228,\n",
       "        207, 213, 221, 218, 208, 211, 218, 224, 223, 219, 215, 224, 244,\n",
       "        159,   0],\n",
       "       [  0,   0,   0,   0,  18,  44,  82, 107, 189, 228, 220, 222, 217,\n",
       "        226, 200, 205, 211, 230, 224, 234, 176, 188, 250, 248, 233, 238,\n",
       "        215,   0],\n",
       "       [  0,  57, 187, 208, 224, 221, 224, 208, 204, 214, 208, 209, 200,\n",
       "        159, 245, 193, 206, 223, 255, 255, 221, 234, 221, 211, 220, 232,\n",
       "        246,   0],\n",
       "       [  3, 202, 228, 224, 221, 211, 211, 214, 205, 205, 205, 220, 240,\n",
       "         80, 150, 255, 229, 221, 188, 154, 191, 210, 204, 209, 222, 228,\n",
       "        225,   0],\n",
       "       [ 98, 233, 198, 210, 222, 229, 229, 234, 249, 220, 194, 215, 217,\n",
       "        241,  65,  73, 106, 117, 168, 219, 221, 215, 217, 223, 223, 224,\n",
       "        229,  29],\n",
       "       [ 75, 204, 212, 204, 193, 205, 211, 225, 216, 185, 197, 206, 198,\n",
       "        213, 240, 195, 227, 245, 239, 223, 218, 212, 209, 222, 220, 221,\n",
       "        230,  67],\n",
       "       [ 48, 203, 183, 194, 213, 197, 185, 190, 194, 192, 202, 214, 219,\n",
       "        221, 220, 236, 225, 216, 199, 206, 186, 181, 177, 172, 181, 205,\n",
       "        206, 115],\n",
       "       [  0, 122, 219, 193, 179, 171, 183, 196, 204, 210, 213, 207, 211,\n",
       "        210, 200, 196, 194, 191, 195, 191, 198, 192, 176, 156, 167, 177,\n",
       "        210,  92],\n",
       "       [  0,   0,  74, 189, 212, 191, 175, 172, 175, 181, 185, 188, 189,\n",
       "        188, 193, 198, 204, 209, 210, 210, 211, 188, 188, 194, 192, 216,\n",
       "        170,   0],\n",
       "       [  2,   0,   0,   0,  66, 200, 222, 237, 239, 242, 246, 243, 244,\n",
       "        221, 220, 193, 191, 179, 182, 182, 181, 176, 166, 168,  99,  58,\n",
       "          0,   0],\n",
       "       [  0,   0,   0,   0,   0,   0,   0,  40,  61,  44,  72,  41,  35,\n",
       "          0,   0,   0,   0,   0,   0,   0,   0,   0,   0,   0,   0,   0,\n",
       "          0,   0],\n",
       "       [  0,   0,   0,   0,   0,   0,   0,   0,   0,   0,   0,   0,   0,\n",
       "          0,   0,   0,   0,   0,   0,   0,   0,   0,   0,   0,   0,   0,\n",
       "          0,   0],\n",
       "       [  0,   0,   0,   0,   0,   0,   0,   0,   0,   0,   0,   0,   0,\n",
       "          0,   0,   0,   0,   0,   0,   0,   0,   0,   0,   0,   0,   0,\n",
       "          0,   0]], dtype=uint8)"
      ]
     },
     "execution_count": 7,
     "metadata": {},
     "output_type": "execute_result"
    }
   ],
   "source": [
    "xtrain[0,:,:]"
   ]
  },
  {
   "cell_type": "code",
   "execution_count": 8,
   "id": "846649dc-e751-4315-aac0-d1380356721a",
   "metadata": {},
   "outputs": [],
   "source": [
    "import matplotlib.pyplot as plt"
   ]
  },
  {
   "cell_type": "code",
   "execution_count": 9,
   "id": "69f63fa2-39bc-40fa-99bc-919adb68f1b9",
   "metadata": {},
   "outputs": [
    {
     "data": {
      "text/plain": [
       "<matplotlib.image.AxesImage at 0x1a5cd7d60>"
      ]
     },
     "execution_count": 9,
     "metadata": {},
     "output_type": "execute_result"
    },
    {
     "data": {
      "image/png": "[encoded data removed]",
      "text/plain": [
       "<Figure size 72x72 with 1 Axes>"
      ]
     },
     "metadata": {
      "needs_background": "light"
     },
     "output_type": "display_data"
    }
   ],
   "source": [
    "plt.figure(figsize=(1,1))\n",
    "plt.imshow(xtrain[1000,:,:])"
   ]
  },
  {
   "cell_type": "code",
   "execution_count": 10,
   "id": "c5fc7ab8-91c6-4484-93ef-051f94260c9f",
   "metadata": {},
   "outputs": [
    {
     "data": {
      "text/plain": [
       "array([9, 0, 0, ..., 3, 0, 5], dtype=uint8)"
      ]
     },
     "execution_count": 10,
     "metadata": {},
     "output_type": "execute_result"
    }
   ],
   "source": [
    "ytrain"
   ]
  },
  {
   "cell_type": "code",
   "execution_count": 11,
   "id": "d06fa2fd-cb43-445d-9e14-f6cfff51c0da",
   "metadata": {},
   "outputs": [],
   "source": [
    "import pandas as pd"
   ]
  },
  {
   "cell_type": "code",
   "execution_count": 12,
   "id": "736f090e-30a6-4aa9-a849-5f4d4efb6944",
   "metadata": {},
   "outputs": [
    {
     "data": {
      "text/plain": [
       "{'0': 'T-shirt/top',\n",
       " '1': 'Trouser',\n",
       " '2': 'Pullover',\n",
       " '3': 'Dress',\n",
       " '4': 'Coat',\n",
       " '5': 'Sandal',\n",
       " '6': 'Shirt',\n",
       " '7': 'Sneaker',\n",
       " '8': 'Bag',\n",
       " '9': 'Ankle-boot'}"
      ]
     },
     "execution_count": 12,
     "metadata": {},
     "output_type": "execute_result"
    }
   ],
   "source": [
    "labl = '''0 T-shirt/top\n",
    "1 Trouser\n",
    "2 Pullover\n",
    "3 Dress\n",
    "4 Coat\n",
    "5 Sandal\n",
    "6 Shirt\n",
    "7 Sneaker\n",
    "8 Bag\n",
    "9 Ankle-boot'''.split('\\n')\n",
    "labels = {i.split()[0]:i.split()[-1] for i in labl}\n",
    "labels"
   ]
  },
  {
   "cell_type": "code",
   "execution_count": 13,
   "id": "00aef51d-735c-4f1f-871a-1c778364b574",
   "metadata": {},
   "outputs": [],
   "source": [
    "xtrain1 = xtrain.reshape(-1,784)\n",
    "xtest1 = xtest.reshape(-1,784)"
   ]
  },
  {
   "cell_type": "code",
   "execution_count": 14,
   "id": "8c89b364-138d-4bac-bd15-6e41ba837f17",
   "metadata": {},
   "outputs": [
    {
     "data": {
      "text/plain": [
       "(60000, 784)"
      ]
     },
     "execution_count": 14,
     "metadata": {},
     "output_type": "execute_result"
    }
   ],
   "source": [
    "xtrain1.shape"
   ]
  },
  {
   "cell_type": "code",
   "execution_count": 15,
   "id": "2c6b7e76-9928-49e6-9ee8-c5db5e7912e2",
   "metadata": {},
   "outputs": [
    {
     "data": {
      "text/plain": [
       "(10000, 784)"
      ]
     },
     "execution_count": 15,
     "metadata": {},
     "output_type": "execute_result"
    }
   ],
   "source": [
    "xtest1.shape"
   ]
  },
  {
   "cell_type": "code",
   "execution_count": 16,
   "id": "2068063f-a0a3-41f6-83d3-ebdece9aca57",
   "metadata": {},
   "outputs": [],
   "source": [
    "model = tf.keras.models.Sequential()\n",
    "model.add(tf.keras.layers.Dense(activation='relu',input_shape=(784,),units=128))                    ## input layer\n",
    "model.add(tf.keras.layers.Dense(units=128,activation='relu'))                                       ## hidden layer\n",
    "model.add(tf.keras.layers.Dense(units=10,activation='softmax'))                                ## output layer  Categorical data so softmax or sigmoid\n",
    "model.compile(optimizer='adam',loss='sparse_categorical_crossentropy',metrics=['accuracy'])        "
   ]
  },
  {
   "cell_type": "code",
   "execution_count": 17,
   "id": "7ed468ed-8478-492b-9033-e5954ec707be",
   "metadata": {},
   "outputs": [
    {
     "name": "stdout",
     "output_type": "stream",
     "text": [
      "Epoch 1/20\n",
      "1875/1875 [==============================] - 8s 4ms/step - loss: 1.9283 - accuracy: 0.7361\n",
      "Epoch 2/20\n",
      "1875/1875 [==============================] - 7s 4ms/step - loss: 0.6385 - accuracy: 0.7908\n",
      "Epoch 3/20\n",
      "1875/1875 [==============================] - 7s 4ms/step - loss: 0.5542 - accuracy: 0.8122\n",
      "Epoch 4/20\n",
      "1875/1875 [==============================] - 7s 4ms/step - loss: 0.5030 - accuracy: 0.8269\n",
      "Epoch 5/20\n",
      "1875/1875 [==============================] - 7s 4ms/step - loss: 0.4572 - accuracy: 0.8383\n",
      "Epoch 6/20\n",
      "1875/1875 [==============================] - 7s 4ms/step - loss: 0.4227 - accuracy: 0.8507\n",
      "Epoch 7/20\n",
      "1875/1875 [==============================] - 7s 4ms/step - loss: 0.4106 - accuracy: 0.8521\n",
      "Epoch 8/20\n",
      "1875/1875 [==============================] - 7s 4ms/step - loss: 0.3950 - accuracy: 0.8594\n",
      "Epoch 9/20\n",
      "1875/1875 [==============================] - 7s 4ms/step - loss: 0.3828 - accuracy: 0.8621\n",
      "Epoch 10/20\n",
      "1875/1875 [==============================] - 7s 4ms/step - loss: 0.3766 - accuracy: 0.8639\n",
      "Epoch 11/20\n",
      "1875/1875 [==============================] - 7s 4ms/step - loss: 0.3662 - accuracy: 0.8670\n",
      "Epoch 12/20\n",
      "1875/1875 [==============================] - 7s 4ms/step - loss: 0.3650 - accuracy: 0.8688\n",
      "Epoch 13/20\n",
      "1875/1875 [==============================] - 7s 4ms/step - loss: 0.3619 - accuracy: 0.8697\n",
      "Epoch 14/20\n",
      "1875/1875 [==============================] - 7s 4ms/step - loss: 0.3581 - accuracy: 0.8709\n",
      "Epoch 15/20\n",
      "1875/1875 [==============================] - ETA: 0s - loss: 0.3617 - accuracy: 0.86 - 7s 4ms/step - loss: 0.3618 - accuracy: 0.8690\n",
      "Epoch 16/20\n",
      "1875/1875 [==============================] - 7s 4ms/step - loss: 0.3533 - accuracy: 0.8723\n",
      "Epoch 17/20\n",
      "1875/1875 [==============================] - 7s 4ms/step - loss: 0.3549 - accuracy: 0.8735\n",
      "Epoch 18/20\n",
      "1875/1875 [==============================] - 7s 4ms/step - loss: 0.3494 - accuracy: 0.8752\n",
      "Epoch 19/20\n",
      "1875/1875 [==============================] - 7s 4ms/step - loss: 0.3471 - accuracy: 0.8747\n",
      "Epoch 20/20\n",
      "1875/1875 [==============================] - 7s 4ms/step - loss: 0.3387 - accuracy: 0.8776\n"
     ]
    }
   ],
   "source": [
    "history = model.fit(xtrain1,ytrain,epochs=20)"
   ]
  },
  {
   "cell_type": "code",
   "execution_count": 18,
   "id": "b5ff8ed3-b36b-4fe4-bdb3-083522e0fc78",
   "metadata": {},
   "outputs": [
    {
     "data": {
      "image/png": "[encoded data removed]",
      "text/plain": [
       "<Figure size 432x288 with 1 Axes>"
      ]
     },
     "metadata": {
      "needs_background": "light"
     },
     "output_type": "display_data"
    }
   ],
   "source": [
    "plt.plot(history.history['loss'])\n",
    "plt.legend(['Loss'])\n",
    "plt.grid()\n",
    "plt.xticks(range(1,21))\n",
    "plt.xlabel('Epochs-->')\n",
    "plt.show()"
   ]
  },
  {
   "cell_type": "code",
   "execution_count": 19,
   "id": "d8f4d159-9e47-4cdb-8b28-6fd8b9722903",
   "metadata": {},
   "outputs": [
    {
     "data": {
      "image/png": "[encoded data removed]",
      "text/plain": [
       "<Figure size 432x288 with 1 Axes>"
      ]
     },
     "metadata": {
      "needs_background": "light"
     },
     "output_type": "display_data"
    }
   ],
   "source": [
    "plt.plot(history.history['accuracy'])\n",
    "plt.legend(['Accuracy'])\n",
    "plt.grid()\n",
    "plt.xticks(range(1,21))\n",
    "plt.xlabel('Epochs-->')\n",
    "plt.show()"
   ]
  },
  {
   "cell_type": "code",
   "execution_count": 20,
   "id": "54066765-e9f0-42b2-8376-24843f822afa",
   "metadata": {},
   "outputs": [],
   "source": [
    "ypred = model.predict(xtest1)"
   ]
  },
  {
   "cell_type": "code",
   "execution_count": 21,
   "id": "9942f6a3-6fec-48d0-9fba-114e3adc85c2",
   "metadata": {},
   "outputs": [
    {
     "data": {
      "text/plain": [
       "array([1.3854755e-12, 9.2845343e-10, 4.8107769e-17, 8.5659688e-17,\n",
       "       1.0208718e-10, 1.0727796e-02, 1.3884160e-10, 1.6325036e-02,\n",
       "       5.2521478e-05, 9.7289467e-01], dtype=float32)"
      ]
     },
     "execution_count": 21,
     "metadata": {},
     "output_type": "execute_result"
    }
   ],
   "source": [
    "ypred[0]"
   ]
  },
  {
   "cell_type": "code",
   "execution_count": 22,
   "id": "f248230d-71f2-4a51-a74d-5a735d9cda2a",
   "metadata": {},
   "outputs": [
    {
     "name": "stdout",
     "output_type": "stream",
     "text": [
      "0 : 0.0000000000\n",
      "1 : 0.0000000009\n",
      "2 : 0.0000000000\n",
      "3 : 0.0000000000\n",
      "4 : 0.0000000001\n",
      "5 : 0.0107277958\n",
      "6 : 0.0000000001\n",
      "7 : 0.0163250361\n",
      "8 : 0.0000525215\n",
      "9 : 0.9728946686\n"
     ]
    }
   ],
   "source": [
    "for i,v in enumerate(ypred[0]):\n",
    "    print(i,':','{0:.10f}'.format(v))"
   ]
  },
  {
   "cell_type": "code",
   "execution_count": 23,
   "id": "ec86b41c-8ee5-4320-a3f8-192c4e402cd6",
   "metadata": {},
   "outputs": [
    {
     "data": {
      "text/plain": [
       "9"
      ]
     },
     "execution_count": 23,
     "metadata": {},
     "output_type": "execute_result"
    }
   ],
   "source": [
    "ypred[0].argmax()  "
   ]
  },
  {
   "cell_type": "code",
   "execution_count": 24,
   "id": "ecefa16d-2589-4d8b-88e2-4bf87fa44a97",
   "metadata": {},
   "outputs": [
    {
     "data": {
      "text/plain": [
       "10"
      ]
     },
     "execution_count": 24,
     "metadata": {},
     "output_type": "execute_result"
    }
   ],
   "source": [
    "len(ypred[0])"
   ]
  },
  {
   "cell_type": "code",
   "execution_count": 25,
   "id": "a496a2f9-3913-4e81-b285-27eb87d2c056",
   "metadata": {},
   "outputs": [],
   "source": [
    "import numpy as np"
   ]
  },
  {
   "cell_type": "code",
   "execution_count": 26,
   "id": "b2518dd9-5ca0-470e-8ee8-0f73ea5711d3",
   "metadata": {},
   "outputs": [
    {
     "data": {
      "text/plain": [
       "array([9, 2, 1, ..., 8, 1, 5], dtype=int64)"
      ]
     },
     "execution_count": 26,
     "metadata": {},
     "output_type": "execute_result"
    }
   ],
   "source": [
    "ypredd = np.array([i.argmax() for i in ypred])\n",
    "ypredd"
   ]
  },
  {
   "cell_type": "code",
   "execution_count": 27,
   "id": "7217bef4-08a9-49e2-b2d5-fc85f435513f",
   "metadata": {},
   "outputs": [
    {
     "data": {
      "text/plain": [
       "<matplotlib.image.AxesImage at 0x19c3bfd00>"
      ]
     },
     "execution_count": 27,
     "metadata": {},
     "output_type": "execute_result"
    },
    {
     "data": {
      "image/png": "[encoded data removed]",
      "text/plain": [
       "<Figure size 432x288 with 1 Axes>"
      ]
     },
     "metadata": {
      "needs_background": "light"
     },
     "output_type": "display_data"
    }
   ],
   "source": [
    "plt.imshow(xtest1[0].reshape(28,28))"
   ]
  },
  {
   "cell_type": "code",
   "execution_count": 28,
   "id": "72ec8634-28a7-4fa7-b19a-b88649f2f773",
   "metadata": {},
   "outputs": [
    {
     "data": {
      "text/plain": [
       "7"
      ]
     },
     "execution_count": 28,
     "metadata": {},
     "output_type": "execute_result"
    }
   ],
   "source": [
    "ytest[9]"
   ]
  },
  {
   "cell_type": "code",
   "execution_count": 29,
   "id": "7271ede1-26f8-4009-8e77-1191b4276e23",
   "metadata": {},
   "outputs": [
    {
     "data": {
      "text/plain": [
       "array([9, 2, 1, ..., 8, 1, 5], dtype=uint8)"
      ]
     },
     "execution_count": 29,
     "metadata": {},
     "output_type": "execute_result"
    }
   ],
   "source": [
    "ytest"
   ]
  },
  {
   "cell_type": "code",
   "execution_count": 30,
   "id": "1356b727-25bc-44c9-9b51-fcd6e357a615",
   "metadata": {},
   "outputs": [],
   "source": [
    "ypredd = np.array([labels.get(str(i)) for i in ypredd])\n",
    "ytestt = np.array([labels.get(str(i)) for i in ytest])"
   ]
  },
  {
   "cell_type": "code",
   "execution_count": 31,
   "id": "2ac134ed-c24f-4631-8ec8-6aa485529699",
   "metadata": {},
   "outputs": [
    {
     "data": {
      "text/plain": [
       "10000"
      ]
     },
     "execution_count": 31,
     "metadata": {},
     "output_type": "execute_result"
    }
   ],
   "source": [
    "len(ypredd)"
   ]
  },
  {
   "cell_type": "code",
   "execution_count": 32,
   "id": "a5a66dad-b3bb-4975-b42b-a1c1fe3f2f9a",
   "metadata": {},
   "outputs": [
    {
     "data": {
      "text/plain": [
       "10000"
      ]
     },
     "execution_count": 32,
     "metadata": {},
     "output_type": "execute_result"
    }
   ],
   "source": [
    "len(ytestt)"
   ]
  },
  {
   "cell_type": "code",
   "execution_count": 33,
   "id": "27316994-0b8e-4f7b-bbdd-2fceb5a9fc81",
   "metadata": {},
   "outputs": [],
   "source": [
    "from sklearn.metrics import classification_report,confusion_matrix"
   ]
  },
  {
   "cell_type": "code",
   "execution_count": 34,
   "id": "b2d20210-a702-46a2-aa69-bdce5fe14412",
   "metadata": {},
   "outputs": [],
   "source": [
    "import seaborn as sns"
   ]
  },
  {
   "cell_type": "code",
   "execution_count": 35,
   "id": "4065cce1-cddd-4cf8-937f-c87789e94589",
   "metadata": {},
   "outputs": [
    {
     "data": {
      "text/plain": [
       "<AxesSubplot:>"
      ]
     },
     "execution_count": 35,
     "metadata": {},
     "output_type": "execute_result"
    },
    {
     "data": {
      "image/png": "[encoded data removed]",
      "text/plain": [
       "<Figure size 576x576 with 1 Axes>"
      ]
     },
     "metadata": {
      "needs_background": "light"
     },
     "output_type": "display_data"
    }
   ],
   "source": [
    "\n",
    "plt.figure(figsize=(8,8))\n",
    "sns.heatmap(pd.DataFrame(confusion_matrix(ytestt,ypredd),index=labels.values(), columns=labels.values()),annot=True,fmt='d',cbar=False)"
   ]
  },
  {
   "cell_type": "code",
   "execution_count": 36,
   "id": "174f70c0-dea3-470a-973d-c6294ec0d67a",
   "metadata": {},
   "outputs": [
    {
     "name": "stdout",
     "output_type": "stream",
     "text": [
      "              precision    recall  f1-score   support\n",
      "\n",
      "  Ankle-boot       0.95      0.95      0.95      1000\n",
      "         Bag       0.94      0.97      0.95      1000\n",
      "        Coat       0.86      0.54      0.66      1000\n",
      "       Dress       0.78      0.92      0.84      1000\n",
      "    Pullover       0.65      0.85      0.74      1000\n",
      "      Sandal       0.94      0.95      0.95      1000\n",
      "       Shirt       0.60      0.65      0.62      1000\n",
      "     Sneaker       0.94      0.94      0.94      1000\n",
      " T-shirt/top       0.87      0.66      0.75      1000\n",
      "     Trouser       0.99      0.96      0.98      1000\n",
      "\n",
      "    accuracy                           0.84     10000\n",
      "   macro avg       0.85      0.84      0.84     10000\n",
      "weighted avg       0.85      0.84      0.84     10000\n",
      "\n"
     ]
    }
   ],
   "source": [
    "print(classification_report(ytestt,ypredd))"
   ]
  },
  {
   "cell_type": "code",
   "execution_count": null,
   "id": "5a62f07b-f41c-45a9-8a08-7f3f96023d8f",
   "metadata": {},
   "outputs": [],
   "source": []
  }
 ],
 "metadata": {
  "kernelspec": {
   "display_name": "Python 3",
   "language": "python",
   "name": "python3"
  },
  "language_info": {
   "codemirror_mode": {
    "name": "ipython",
    "version": 3
   },
   "file_extension": ".py",
   "mimetype": "text/x-python",
   "name": "python",
   "nbconvert_exporter": "python",
   "pygments_lexer": "ipython3",
   "version": "3.8.8"
  }
 },
 "nbformat": 4,
 "nbformat_minor": 5
}
